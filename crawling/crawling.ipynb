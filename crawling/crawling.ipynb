{
 "cells": [
  {
   "cell_type": "markdown",
   "id": "154b236a",
   "metadata": {},
   "source": [
    "# Data\n",
    "- 수집: 내부데이터 + 외부데이터 (공공데이터 + Web Data) \n",
    "- 저장: 파일형태 저장, Database에 직접 저장도 가능\n",
    "- 처리: Pandas Library 사용\n",
    "- 분석: Pandas + Scikit Learn + Seaborn\n",
    "- 스크래핑: 웹 문서상 데이터를 가져오는 것\n",
    "- 여러 개의 페이지로 구성, 페이지를 통해 데이터를 수집, 웹 형식 HTML\n",
    "- Web Pasing\n",
    "- 1) Crawling: 웹 또는 어플리케이션 개발단계, 개발된 프로그램을 테스트하는 용도\n",
    "- 2) 웹 데이터 수집 시, 자동으로 페이지를 넘어 다니면서 데이터 수집 (Scraping + Crawling)\n",
    "- 크롤링: 데이터를 자동으로 웹에서 수집 및 저장하는 것"
   ]
  },
  {
   "cell_type": "markdown",
   "id": "0336f5a6",
   "metadata": {},
   "source": [
    "# Library: 특정 기능을 수행하는 함수 집합\n",
    "- Pandas: 데이터 전처리(Preprocessing)시 사용하는 라이브러리 / 데이터를 수집해오고 저장하는 역할\n",
    "- Selenium: Crawling + (chrome driver) (웹에서 데이터를 가져옴)\n",
    "- Request(웹데이터 수집)\n",
    "- Urllib: 이미지 데이터 스크래핑 및 저장\n",
    "\n"
   ]
  },
  {
   "cell_type": "code",
   "execution_count": 1,
   "id": "9dad9f27",
   "metadata": {},
   "outputs": [],
   "source": [
    "from selenium import webdriver"
   ]
  },
  {
   "cell_type": "code",
   "execution_count": 2,
   "id": "cdb995ca",
   "metadata": {},
   "outputs": [],
   "source": [
    "from selenium.webdriver.common.keys import Keys # 문법이 개정되어서 Keys를 무조건 import해야함"
   ]
  },
  {
   "cell_type": "code",
   "execution_count": 3,
   "id": "55fd376d",
   "metadata": {},
   "outputs": [],
   "source": [
    "driver = webdriver.Chrome('chromedriver') # chrome에 자동으로 접속(가상환경)"
   ]
  },
  {
   "cell_type": "code",
   "execution_count": 4,
   "id": "9bd950ae",
   "metadata": {},
   "outputs": [],
   "source": [
    "driver.quit() #(자동으로 꺼줌)"
   ]
  },
  {
   "cell_type": "markdown",
   "id": "6afc197f",
   "metadata": {},
   "source": [
    "# 이마트 데이터 수집 "
   ]
  },
  {
   "cell_type": "code",
   "execution_count": 5,
   "id": "9b2708e5",
   "metadata": {},
   "outputs": [],
   "source": [
    "driver = webdriver.Chrome('chromedriver')\n",
    "driver.get('https://emart.ssg.com/')"
   ]
  },
  {
   "cell_type": "code",
   "execution_count": 6,
   "id": "be5e58ff",
   "metadata": {},
   "outputs": [],
   "source": [
    "driver.find_element_by_xpath('//*[@id=\"skip_gnb\"]/div/div[1]/button').send_keys(Keys.ENTER) # .Enter() -> .send_keys(Keys.Enter)로 문법이 개정됨"
   ]
  },
  {
   "cell_type": "code",
   "execution_count": 7,
   "id": "2c0eecb4",
   "metadata": {},
   "outputs": [],
   "source": [
    "driver.find_element_by_xpath('//*[@id=\"skip_gnb\"]/div/div[1]/div/div/ul/li[10]/a').send_keys(Keys.ENTER)"
   ]
  },
  {
   "cell_type": "code",
   "execution_count": 8,
   "id": "8478953d",
   "metadata": {},
   "outputs": [
    {
     "data": {
      "text/plain": [
       "'제주삼다수 그린 2L 6병'"
      ]
     },
     "execution_count": 8,
     "metadata": {},
     "output_type": "execute_result"
    }
   ],
   "source": [
    "driver.find_element_by_xpath('//*[@id=\"ty_thmb_view\"]/ul/li[1]/div/a/div[1]/span[2]').text"
   ]
  },
  {
   "cell_type": "code",
   "execution_count": 9,
   "id": "1908614b",
   "metadata": {},
   "outputs": [
    {
     "data": {
      "text/plain": [
       "'6,480'"
      ]
     },
     "execution_count": 9,
     "metadata": {},
     "output_type": "execute_result"
    }
   ],
   "source": [
    "driver.find_element_by_xpath('//*[@id=\"ty_thmb_view\"]/ul/li[1]/div/a/div[2]/div[1]/div/em').text"
   ]
  },
  {
   "cell_type": "code",
   "execution_count": 10,
   "id": "80c9b700",
   "metadata": {},
   "outputs": [
    {
     "data": {
      "text/plain": [
       "'[웅진] 자연은 사과 주스 1.5L'"
      ]
     },
     "execution_count": 10,
     "metadata": {},
     "output_type": "execute_result"
    }
   ],
   "source": [
    "driver.find_element_by_xpath('//*[@id=\"ty_thmb_view\"]/ul/li[84]/div/a/div[1]/span[2]').text"
   ]
  },
  {
   "cell_type": "code",
   "execution_count": 11,
   "id": "c3c3b224",
   "metadata": {},
   "outputs": [],
   "source": [
    "# 1번째 데이터\n",
    "# '//*[@id=\"ty_thmb_view\"]/ul/li[1]/div/a/div[1]/span[2]'\n",
    "# 2번째 데이터\n",
    "# '//*[@id=\"ty_thmb_view\"]/ul/li[84]/div/a/div[1]/span[2]'\n",
    "# 를 비교해보면 /ul/li[1] 과 /ul/li[84] 만 차이가 나는걸 확인할 수 있다."
   ]
  },
  {
   "cell_type": "code",
   "execution_count": 12,
   "id": "9a585e59",
   "metadata": {},
   "outputs": [],
   "source": [
    "product_list = [] # 리스트로 만드는 이유는 하나의 데이터 프레임으로 만들 수 있기 때문이다.\n",
    "price_list = [] # 리스트로 만드는 이유는 하나의 데이터 프레임으로 만들 수 있기 때문이다.\n",
    "for i in range(1, 85):\n",
    "    product_name = driver.find_element_by_xpath('//*[@id=\"ty_thmb_view\"]/ul/li['+str(i)+']/div/a/div[1]')\n",
    "    price = driver.find_element_by_xpath('//*[@id=\"ty_thmb_view\"]/ul/li[' + str(i) + ']/div/a/div[2]/div[1]')\n",
    "    product_list.append(product_name.text) \n",
    "    price_list.append(price.text)"
   ]
  },
  {
   "cell_type": "code",
   "execution_count": 13,
   "id": "cd2085ad",
   "metadata": {},
   "outputs": [
    {
     "data": {
      "text/plain": [
       "['삼다수 제주삼다수 그린 2L 6병',\n",
       " '해태htb 강원 평창수 2L*6입 (무라벨)',\n",
       " '동원에프앤비 [동원] 동원샘물 2L',\n",
       " '빙그레 따옴 오렌지주스 1600ml',\n",
       " '빙그레 따옴 오렌지 730ml',\n",
       " '빙그레 산토리니 플레인 500ml*20개입',\n",
       " '피코크 트루워터 2L X 6(무라벨 생수)',\n",
       " '피코크 트루워터 330ml X 20(무라벨 생수)',\n",
       " '서울우유 아침에주스 오렌지 1.8L',\n",
       " '코카콜라 1.8L',\n",
       " '코카콜라 1.8L 2입 기획',\n",
       " '농심 백산수 2L* 6입(무라벨)',\n",
       " '갈배사이다 1.5L',\n",
       " '웅진 _티즐 제로 피치우롱티500mL',\n",
       " '코카콜라 215ml 12입',\n",
       " '롯데칠성 [롯데] 게토레이 1.5L',\n",
       " '코카콜라 제로 215ml*12',\n",
       " '웅진 _초록매실 1.35L',\n",
       " '웅진 자연은 토마토 주스 1.5L',\n",
       " '웅진 _티즐 제로유자그린티500mL',\n",
       " '롯데칠성 아이시스8.0ECO 2L*6입',\n",
       " '롯데칠성 펩시 제로슈거 라임향 210ml*10',\n",
       " '노브랜드 Fresh제주감귤음료1.5L',\n",
       " '웅진 자연은 알로에 주스 1.5L',\n",
       " '삼다수 330ml',\n",
       " '코카콜라 300ml*12PET',\n",
       " '트레비 라임 300ml*20입',\n",
       " '롯데칠성 [트레비] 플레인300ml*20입',\n",
       " '해태htb 갈아만든 배 1L',\n",
       " '서울우유 아침에주스 오렌지 950ml',\n",
       " '펩시 제로슈거 라임향 무라벨 300ml*12',\n",
       " '야채듬뿍 더진한 레드 125ml*4팩',\n",
       " '롯데칠성 칠성사이다210캔*10',\n",
       " '스프라이트 제로 1L',\n",
       " '서울우유 아침에주스 포도 1.8L',\n",
       " '롯데칠성 [트레비] 레몬 300ml*20',\n",
       " '델몬트 드링크 버라이어티팩 (오렌지+포도+망고+사과) 190㎖*12팩',\n",
       " '농심 백산수 500ml',\n",
       " '웅진식품 티즐 제로 피치얼그레이 500ml',\n",
       " '코카콜라 스프라이트 1L',\n",
       " '자연주의 유기농 식혜 1.8L',\n",
       " '해태htb [해태] 영진 구론산 바몬드 오리지날액 150ml*10병',\n",
       " '포카리스웨트 1.8L*2',\n",
       " '노브랜드 캔콜라 제로 355ml*6',\n",
       " '코카콜라 파워에이드 마운틴 블라스트 (1.5L)',\n",
       " '(주)일화 초정탄산수 1.5L',\n",
       " '노브랜드 캔콜라355ml*6',\n",
       " '롯데칠성 [롯데] 제주 감귤주스 1.5L',\n",
       " '델몬트 후레쉬 프로듀스 파머스에이드바청귤1.0팩',\n",
       " '동원 쿨피스플러스 930ml*2입 (맛 점포별 랜덤발송)',\n",
       " '농심 [웰치스] 웰치 그레이프맛 (355ml6개)',\n",
       " '웅진식품 티즐 제로 라임 민트티 500ml',\n",
       " '코카콜라 토레타 1.5L',\n",
       " '노브랜드 식혜 음료 238ml*12',\n",
       " '노브랜드 제로콜라 1L',\n",
       " '롯데칠성 [롯데] 칠성사이다 1.8L*2입',\n",
       " '노브랜드 사이다1.5L',\n",
       " '씨그램 플레인 무라벨 350ml*12',\n",
       " '펩시 제로슈거 라임향 500ml',\n",
       " '롯데칠성 [롯데] 탐라 제주감귤 주스 1.8L*2입',\n",
       " '델몬트 오리지널 매실 1.5L 펫',\n",
       " '델몬트 후레쉬 프로듀스 [델몬트] 오렌지 쥬스(1.5L)',\n",
       " 'Limmi 레몬 쥬스 200ml',\n",
       " '롯데칠성 사이다제로1.5펫*2입',\n",
       " '롯데칠성 [트레비] 자몽 300ml*20입',\n",
       " '농심 웰치제로 그레이프맛355ml*6입',\n",
       " '광동 비타500 (100ml*10입)',\n",
       " '피코크 트루스파클링 레몬 500ml X 6',\n",
       " '박카스 F 120ml*20입',\n",
       " '하이트진로 블랙보리 라이트 1.5L',\n",
       " '농심 백산수 330ml',\n",
       " '씨그램 라임 무라벨 350ML*12',\n",
       " '토레타 900ml',\n",
       " '자연은 [웅진] 자연은 130일 당근주스 1.5L',\n",
       " '하이트진로 토닉워터 300ml*6',\n",
       " '노브랜드 쿨피치930ml',\n",
       " '씨그램 레몬 무라벨 350ML*12',\n",
       " '파워에이드 M/B 900ml',\n",
       " '롯데칠성 [롯데]아이시스 8.0 300ml',\n",
       " '델몬트 후레쉬 프로듀스 델몬트 망고 1.8L',\n",
       " '노브랜드 사과100 1.5L',\n",
       " '노브랜드 Fresh알로에음료1.5L',\n",
       " '코카콜라 미닛메이드 토마토주스 1.5L',\n",
       " '웅진식품 [웅진] 자연은 사과 주스 1.5L']"
      ]
     },
     "execution_count": 13,
     "metadata": {},
     "output_type": "execute_result"
    }
   ],
   "source": [
    "product_list"
   ]
  },
  {
   "cell_type": "code",
   "execution_count": 14,
   "id": "27100c3a",
   "metadata": {},
   "outputs": [
    {
     "data": {
      "text/plain": [
       "['판매가격\\n6,480\\n원',\n",
       " '판매가격\\n5,880\\n원',\n",
       " '판매가격\\n501\\n원',\n",
       " '판매가격\\n7,180\\n원',\n",
       " '판매가격\\n3,280\\n원',\n",
       " '정상가격\\n13,900 원',\n",
       " '정상가격\\n3,480 원',\n",
       " '정상가격\\n4,980 원',\n",
       " '판매가격\\n4,280\\n원',\n",
       " '판매가격\\n1,980\\n원',\n",
       " '판매가격\\n3,960\\n원',\n",
       " '판매가격\\n5,460\\n원',\n",
       " '판매가격\\n3,280\\n원',\n",
       " '판매가격\\n1,600\\n원',\n",
       " '판매가격\\n7,780\\n원',\n",
       " '판매가격\\n3,480\\n원',\n",
       " '판매가격\\n7,780\\n원',\n",
       " '판매가격\\n3,980\\n원',\n",
       " '판매가격\\n4,280\\n원',\n",
       " '판매가격\\n1,600\\n원',\n",
       " '정상가격\\n5,760 원',\n",
       " '판매가격\\n4,980\\n원',\n",
       " '판매가격\\n1,880\\n원',\n",
       " '판매가격\\n4,280\\n원',\n",
       " '판매가격\\n430\\n원',\n",
       " '판매가격\\n10,400\\n원',\n",
       " '정상가격\\n10,780 원',\n",
       " '정상가격\\n10,780 원',\n",
       " '판매가격\\n1,500\\n원',\n",
       " '판매가격\\n3,580\\n원',\n",
       " '정상가격\\n10,880 원',\n",
       " '판매가격\\n4,980\\n원',\n",
       " '판매가격\\n4,980\\n원',\n",
       " '판매가격\\n980\\n원',\n",
       " '정상가격\\n5,380 원',\n",
       " '정상가격\\n10,780 원',\n",
       " '정상가격\\n4,980 원',\n",
       " '판매가격\\n400\\n원',\n",
       " '판매가격\\n1,600\\n원',\n",
       " '판매가격\\n980\\n원',\n",
       " '정상가격\\n7,980 원',\n",
       " '판매가격\\n11,680\\n원',\n",
       " '판매가격\\n4,980\\n원',\n",
       " '판매가격\\n2,880\\n원',\n",
       " '판매가격\\n3,600\\n원',\n",
       " '판매가격\\n2,380\\n원',\n",
       " '판매가격\\n2,880\\n원',\n",
       " '판매가격\\n3,480\\n원',\n",
       " '판매가격\\n4,980\\n원',\n",
       " '판매가격\\n2,180\\n원',\n",
       " '정상가격\\n5,680 원',\n",
       " '판매가격\\n1,600\\n원',\n",
       " '판매가격\\n3,600\\n원',\n",
       " '판매가격\\n5,980\\n원',\n",
       " '판매가격\\n980\\n원',\n",
       " '판매가격\\n4,180\\n원',\n",
       " '판매가격\\n980\\n원',\n",
       " '판매가격\\n5,980\\n원',\n",
       " '판매가격\\n1,580\\n원',\n",
       " '판매가격\\n3,980\\n원',\n",
       " '판매가격\\n3,480\\n원',\n",
       " '판매가격\\n4,180\\n원',\n",
       " '판매가격\\n2,280\\n원',\n",
       " '판매가격\\n3,980\\n원',\n",
       " '정상가격\\n10,780 원',\n",
       " '정상가격\\n5,680 원',\n",
       " '판매가격\\n6,980\\n원',\n",
       " '정상가격\\n5,100 원',\n",
       " '판매가격\\n15,980\\n원',\n",
       " '판매가격\\n1,080\\n원',\n",
       " '판매가격\\n360\\n원',\n",
       " '판매가격\\n5,980\\n원',\n",
       " '판매가격\\n980\\n원',\n",
       " '판매가격\\n4,280\\n원',\n",
       " '정상가격\\n5,780 원',\n",
       " '판매가격\\n980\\n원',\n",
       " '판매가격\\n5,980\\n원',\n",
       " '판매가격\\n980\\n원',\n",
       " '판매가격\\n330\\n원',\n",
       " '판매가격\\n4,980\\n원',\n",
       " '판매가격\\n2,280\\n원',\n",
       " '판매가격\\n1,880\\n원',\n",
       " '판매가격\\n3,320\\n원',\n",
       " '판매가격\\n4,280\\n원']"
      ]
     },
     "execution_count": 14,
     "metadata": {},
     "output_type": "execute_result"
    }
   ],
   "source": [
    "price_list"
   ]
  },
  {
   "cell_type": "code",
   "execution_count": 15,
   "id": "03690598",
   "metadata": {},
   "outputs": [],
   "source": [
    "import pandas as pd"
   ]
  },
  {
   "cell_type": "code",
   "execution_count": 16,
   "id": "96b744c5",
   "metadata": {},
   "outputs": [],
   "source": [
    "df1 = pd.DataFrame({'상품명': product_list, '가격': price_list})\n",
    "df1\n",
    "df1.to_excel('result1.xlsx')"
   ]
  },
  {
   "cell_type": "code",
   "execution_count": 17,
   "id": "e5196d8d",
   "metadata": {},
   "outputs": [
    {
     "data": {
      "text/plain": [
       "'https://sitem.ssgcdn.com/51/85/52/item/1000165528551_i1_290.jpg'"
      ]
     },
     "execution_count": 17,
     "metadata": {},
     "output_type": "execute_result"
    }
   ],
   "source": [
    "image1 = driver.find_element_by_xpath('//*[@id=\"ty_thmb_view\"]/ul/li[1]/div/div[1]/a/div/img')\n",
    "image1.get_attribute('src')"
   ]
  },
  {
   "cell_type": "code",
   "execution_count": 18,
   "id": "d96a6124",
   "metadata": {},
   "outputs": [
    {
     "name": "stdout",
     "output_type": "stream",
     "text": [
      "https://sitem.ssgcdn.com/51/85/52/item/1000165528551_i1_290.jpg\n",
      "https://sitem.ssgcdn.com/95/78/62/item/1000518627895_i1_290.jpg\n",
      "https://sitem.ssgcdn.com/90/23/95/item/2097000952390_i1_290.jpg\n",
      "https://sitem.ssgcdn.com/99/84/67/item/1000004678499_i1_290.jpg\n",
      "https://sitem.ssgcdn.com/75/41/01/item/0000009014175_i1_290.jpg\n",
      "https://sitem.ssgcdn.com/66/37/14/item/2097001143766_i1_290.jpg\n",
      "https://sitem.ssgcdn.com/71/57/91/item/1000092915771_i1_290.jpg\n",
      "https://sitem.ssgcdn.com/80/57/91/item/1000092915780_i1_290.jpg\n",
      "https://sitem.ssgcdn.com/43/60/51/item/1000015516043_i1_290.jpg\n",
      "https://sitem.ssgcdn.com/66/38/61/item/0000006613866_i1_290.jpg\n",
      "https://sitem.ssgcdn.com/22/03/71/item/1000009710322_i1_290.jpg\n",
      "https://sitem.ssgcdn.com/11/84/68/item/1000072688411_i1_290.jpg\n",
      "https://sitem.ssgcdn.com/05/02/30/item/1000028300205_i1_290.jpg\n",
      "https://sitem.ssgcdn.com/68/08/62/item/1000043620868_i1_290.jpg\n",
      "https://sitem.ssgcdn.com/59/08/89/item/1000033890859_i1_290.jpg\n",
      "https://sitem.ssgcdn.com/28/02/61/item/0000006610228_i1_290.jpg\n",
      "https://sitem.ssgcdn.com/86/61/17/item/1000049176186_i1_290.jpg\n",
      "https://sitem.ssgcdn.com/90/28/04/item/1000368042890_i1_290.jpg\n",
      "https://sitem.ssgcdn.com/67/38/61/item/0000006613867_i1_290.jpg\n",
      "https://sitem.ssgcdn.com/66/08/62/item/1000043620866_i1_290.jpg\n",
      "https://sitem.ssgcdn.com/43/36/79/item/1000518793643_i1_290.jpg\n",
      "https://sitem.ssgcdn.com/71/42/79/item/1000064794271_i1_290.jpg\n",
      "https://sitem.ssgcdn.com/74/54/56/item/1000053565474_i1_290.jpg\n",
      "https://sitem.ssgcdn.com/68/38/61/item/0000006613868_i1_290.jpg\n",
      "https://sitem.ssgcdn.com/47/41/91/item/1000029914147_i1_290.jpg\n",
      "https://sitem.ssgcdn.com/26/90/16/item/1000027169026_i1_290.jpg\n",
      "https://sitem.ssgcdn.com/62/82/62/item/1000017628262_i1_290.jpg\n",
      "https://sitem.ssgcdn.com/23/02/87/item/1000029870223_i1_290.jpg\n",
      "https://sitem.ssgcdn.com/44/96/97/item/1000021979644_i1_290.jpg\n",
      "https://sitem.ssgcdn.com/10/51/61/item/0000006615110_i1_290.jpg\n",
      "https://sitem.ssgcdn.com/01/66/36/item/1000280366601_i1_290.jpg\n",
      "https://sitem.ssgcdn.com/64/09/46/item/1000548460964_i1_290.jpg\n",
      "https://sitem.ssgcdn.com/61/89/16/item/1000027168961_i1_290.jpg\n",
      "https://sitem.ssgcdn.com/84/53/14/item/1000433145384_i1_290.jpg\n",
      "https://sitem.ssgcdn.com/44/60/51/item/1000015516044_i1_290.jpg\n",
      "https://sitem.ssgcdn.com/33/14/23/item/1000029231433_i1_290.jpg\n",
      "https://sitem.ssgcdn.com/05/26/31/item/1000030312605_i1_290.jpg\n",
      "https://sitem.ssgcdn.com/11/40/03/item/0000010034011_i1_290.jpg\n",
      "https://sitem.ssgcdn.com/64/17/40/item/1000540401764_i1_290.jpg\n",
      "https://sitem.ssgcdn.com/16/23/36/item/1000045362316_i1_290.jpg\n",
      "https://sitem.ssgcdn.com/19/95/43/item/1000460439519_i1_290.jpg\n",
      "https://sitem.ssgcdn.com/29/43/53/item/1000011534329_i1_290.jpg\n",
      "https://sitem.ssgcdn.com/28/59/05/item/0000008055928_i1_290.jpg\n",
      "https://sitem.ssgcdn.com/29/93/82/item/1000542829329_i1_290.jpg\n",
      "https://sitem.ssgcdn.com/32/91/60/item/0000006609132_i1_290.jpg\n",
      "https://sitem.ssgcdn.com/28/60/61/item/0000006616028_i1_290.jpg\n",
      "https://sitem.ssgcdn.com/17/06/97/item/1000129970617_i1_290.jpg\n",
      "https://sitem.ssgcdn.com/64/06/61/item/0000006610664_i1_290.jpg\n",
      "https://sitem.ssgcdn.com/60/49/98/item/1000363984960_i1_290.jpg\n",
      "https://sitem.ssgcdn.com/71/55/25/item/1000016255571_i1_290.jpg\n",
      "https://sitem.ssgcdn.com/87/37/93/item/0000006933787_i1_290.jpg\n",
      "https://sitem.ssgcdn.com/65/17/40/item/1000540401765_i1_290.jpg\n",
      "https://sitem.ssgcdn.com/14/57/67/item/1000017675714_i1_290.jpg\n",
      "https://sitem.ssgcdn.com/02/72/91/item/1000017917202_i1_290.jpg\n",
      "https://sitem.ssgcdn.com/17/73/76/item/1000543767317_i1_290.jpg\n",
      "https://sitem.ssgcdn.com/48/63/22/item/1000010226348_i1_290.jpg\n",
      "https://sitem.ssgcdn.com/89/68/43/item/1000345436889_i1_290.jpg\n",
      "https://sitem.ssgcdn.com/67/02/44/item/1000041440267_i1_290.jpg\n",
      "https://sitem.ssgcdn.com/73/68/39/item/1000061396873_i1_290.jpg\n",
      "https://sitem.ssgcdn.com/19/40/54/item/1000010544019_i1_290.jpg\n",
      "https://sitem.ssgcdn.com/53/79/11/item/0000008117953_i1_290.jpg\n",
      "https://sitem.ssgcdn.com/75/38/61/item/0000006613875_i1_290.jpg\n",
      "https://sitem.ssgcdn.com/25/97/92/item/1000010929725_i1_290.jpg\n",
      "https://sitem.ssgcdn.com/17/88/46/item/1000148468817_i1_290.jpg\n",
      "https://sitem.ssgcdn.com/29/74/53/item/1000018537429_i1_290.jpg\n",
      "https://sitem.ssgcdn.com/60/15/70/item/1000357701560_i1_290.jpg\n",
      "https://sitem.ssgcdn.com/84/27/61/item/0000006612784_i1_290.jpg\n",
      "https://sitem.ssgcdn.com/74/73/64/item/1000103647374_i1_290.jpg\n",
      "https://sitem.ssgcdn.com/07/71/06/item/1000017067107_i1_290.jpg\n",
      "https://sitem.ssgcdn.com/33/66/88/item/1000172886633_i1_290.jpg\n",
      "https://sitem.ssgcdn.com/54/83/46/item/1000017468354_i1_290.jpg\n",
      "https://sitem.ssgcdn.com/06/49/68/item/1000036684906_i1_290.jpg\n",
      "https://sitem.ssgcdn.com/89/95/97/item/1000021979589_i1_290.jpg\n",
      "https://sitem.ssgcdn.com/82/49/07/item/0000008074982_i1_290.jpg\n",
      "https://sitem.ssgcdn.com/92/86/00/item/0000010008692_i1_290.jpg\n",
      "https://sitem.ssgcdn.com/74/82/94/item/1000372948274_i1_290.jpg\n",
      "https://sitem.ssgcdn.com/65/02/44/item/1000041440265_i1_290.jpg\n",
      "https://sitem.ssgcdn.com/43/96/97/item/1000021979643_i1_290.jpg\n",
      "https://sitem.ssgcdn.com/20/39/23/item/1000016233920_i1_290.jpg\n",
      "https://sitem.ssgcdn.com/50/08/22/item/0000010220850_i1_290.jpg\n",
      "https://sitem.ssgcdn.com/88/71/10/item/1000078107188_i1_290.jpg\n",
      "https://sitem.ssgcdn.com/89/54/56/item/1000053565489_i1_290.jpg\n",
      "https://sitem.ssgcdn.com/33/91/60/item/0000006609133_i1_290.jpg\n",
      "https://sitem.ssgcdn.com/45/87/37/item/0000007378745_i1_290.jpg\n"
     ]
    }
   ],
   "source": [
    "for i in range(1,85):\n",
    "    images = driver.find_element_by_xpath('//*[@id=\"ty_thmb_view\"]/ul/li['+ str(i) + ']/div/div[1]/a/div/img')\n",
    "    img_url = images.get_attribute('src')\n",
    "    print(img_url)"
   ]
  },
  {
   "cell_type": "code",
   "execution_count": 19,
   "id": "1aea018e",
   "metadata": {},
   "outputs": [],
   "source": [
    "import urllib.request # 크롤링한 데이터를 저장하는 라이브러리"
   ]
  },
  {
   "cell_type": "code",
   "execution_count": 20,
   "id": "0333faf9",
   "metadata": {},
   "outputs": [
    {
     "name": "stdout",
     "output_type": "stream",
     "text": [
      "https://sitem.ssgcdn.com/51/85/52/item/1000165528551_i1_290.jpg\n",
      "https://sitem.ssgcdn.com/95/78/62/item/1000518627895_i1_290.jpg\n",
      "https://sitem.ssgcdn.com/90/23/95/item/2097000952390_i1_290.jpg\n",
      "https://sitem.ssgcdn.com/99/84/67/item/1000004678499_i1_290.jpg\n",
      "https://sitem.ssgcdn.com/75/41/01/item/0000009014175_i1_290.jpg\n",
      "https://sitem.ssgcdn.com/66/37/14/item/2097001143766_i1_290.jpg\n",
      "https://sitem.ssgcdn.com/71/57/91/item/1000092915771_i1_290.jpg\n",
      "https://sitem.ssgcdn.com/80/57/91/item/1000092915780_i1_290.jpg\n",
      "https://sitem.ssgcdn.com/43/60/51/item/1000015516043_i1_290.jpg\n",
      "https://sitem.ssgcdn.com/66/38/61/item/0000006613866_i1_290.jpg\n",
      "https://sitem.ssgcdn.com/22/03/71/item/1000009710322_i1_290.jpg\n",
      "https://sitem.ssgcdn.com/11/84/68/item/1000072688411_i1_290.jpg\n",
      "https://sitem.ssgcdn.com/05/02/30/item/1000028300205_i1_290.jpg\n",
      "https://sitem.ssgcdn.com/68/08/62/item/1000043620868_i1_290.jpg\n",
      "https://sitem.ssgcdn.com/59/08/89/item/1000033890859_i1_290.jpg\n",
      "https://sitem.ssgcdn.com/28/02/61/item/0000006610228_i1_290.jpg\n",
      "https://sitem.ssgcdn.com/86/61/17/item/1000049176186_i1_290.jpg\n",
      "https://sitem.ssgcdn.com/90/28/04/item/1000368042890_i1_290.jpg\n",
      "https://sitem.ssgcdn.com/67/38/61/item/0000006613867_i1_290.jpg\n",
      "https://sitem.ssgcdn.com/66/08/62/item/1000043620866_i1_290.jpg\n",
      "https://sitem.ssgcdn.com/43/36/79/item/1000518793643_i1_290.jpg\n",
      "https://sitem.ssgcdn.com/71/42/79/item/1000064794271_i1_290.jpg\n",
      "https://sitem.ssgcdn.com/74/54/56/item/1000053565474_i1_290.jpg\n",
      "https://sitem.ssgcdn.com/68/38/61/item/0000006613868_i1_290.jpg\n",
      "https://sitem.ssgcdn.com/47/41/91/item/1000029914147_i1_290.jpg\n",
      "https://sitem.ssgcdn.com/26/90/16/item/1000027169026_i1_290.jpg\n",
      "https://sitem.ssgcdn.com/62/82/62/item/1000017628262_i1_290.jpg\n",
      "https://sitem.ssgcdn.com/23/02/87/item/1000029870223_i1_290.jpg\n",
      "https://sitem.ssgcdn.com/44/96/97/item/1000021979644_i1_290.jpg\n",
      "https://sitem.ssgcdn.com/10/51/61/item/0000006615110_i1_290.jpg\n",
      "https://sitem.ssgcdn.com/01/66/36/item/1000280366601_i1_290.jpg\n",
      "https://sitem.ssgcdn.com/64/09/46/item/1000548460964_i1_290.jpg\n",
      "https://sitem.ssgcdn.com/61/89/16/item/1000027168961_i1_290.jpg\n",
      "https://sitem.ssgcdn.com/84/53/14/item/1000433145384_i1_290.jpg\n",
      "https://sitem.ssgcdn.com/44/60/51/item/1000015516044_i1_290.jpg\n",
      "https://sitem.ssgcdn.com/33/14/23/item/1000029231433_i1_290.jpg\n",
      "https://sitem.ssgcdn.com/05/26/31/item/1000030312605_i1_290.jpg\n",
      "https://sitem.ssgcdn.com/11/40/03/item/0000010034011_i1_290.jpg\n",
      "https://sitem.ssgcdn.com/64/17/40/item/1000540401764_i1_290.jpg\n",
      "https://sitem.ssgcdn.com/16/23/36/item/1000045362316_i1_290.jpg\n",
      "https://sitem.ssgcdn.com/19/95/43/item/1000460439519_i1_290.jpg\n",
      "https://sitem.ssgcdn.com/29/43/53/item/1000011534329_i1_290.jpg\n",
      "https://sitem.ssgcdn.com/28/59/05/item/0000008055928_i1_290.jpg\n",
      "https://sitem.ssgcdn.com/29/93/82/item/1000542829329_i1_290.jpg\n",
      "https://sitem.ssgcdn.com/32/91/60/item/0000006609132_i1_290.jpg\n",
      "https://sitem.ssgcdn.com/28/60/61/item/0000006616028_i1_290.jpg\n",
      "https://sitem.ssgcdn.com/17/06/97/item/1000129970617_i1_290.jpg\n",
      "https://sitem.ssgcdn.com/64/06/61/item/0000006610664_i1_290.jpg\n",
      "https://sitem.ssgcdn.com/60/49/98/item/1000363984960_i1_290.jpg\n",
      "https://sitem.ssgcdn.com/71/55/25/item/1000016255571_i1_290.jpg\n",
      "https://sitem.ssgcdn.com/87/37/93/item/0000006933787_i1_290.jpg\n",
      "https://sitem.ssgcdn.com/65/17/40/item/1000540401765_i1_290.jpg\n",
      "https://sitem.ssgcdn.com/14/57/67/item/1000017675714_i1_290.jpg\n",
      "https://sitem.ssgcdn.com/02/72/91/item/1000017917202_i1_290.jpg\n",
      "https://sitem.ssgcdn.com/17/73/76/item/1000543767317_i1_290.jpg\n",
      "https://sitem.ssgcdn.com/48/63/22/item/1000010226348_i1_290.jpg\n",
      "https://sitem.ssgcdn.com/89/68/43/item/1000345436889_i1_290.jpg\n",
      "https://sitem.ssgcdn.com/67/02/44/item/1000041440267_i1_290.jpg\n",
      "https://sitem.ssgcdn.com/73/68/39/item/1000061396873_i1_290.jpg\n",
      "https://sitem.ssgcdn.com/19/40/54/item/1000010544019_i1_290.jpg\n",
      "https://sitem.ssgcdn.com/53/79/11/item/0000008117953_i1_290.jpg\n",
      "https://sitem.ssgcdn.com/75/38/61/item/0000006613875_i1_290.jpg\n",
      "https://sitem.ssgcdn.com/25/97/92/item/1000010929725_i1_290.jpg\n",
      "https://sitem.ssgcdn.com/17/88/46/item/1000148468817_i1_290.jpg\n",
      "https://sitem.ssgcdn.com/29/74/53/item/1000018537429_i1_290.jpg\n",
      "https://sitem.ssgcdn.com/60/15/70/item/1000357701560_i1_290.jpg\n",
      "https://sitem.ssgcdn.com/84/27/61/item/0000006612784_i1_290.jpg\n",
      "https://sitem.ssgcdn.com/74/73/64/item/1000103647374_i1_290.jpg\n",
      "https://sitem.ssgcdn.com/07/71/06/item/1000017067107_i1_290.jpg\n",
      "https://sitem.ssgcdn.com/33/66/88/item/1000172886633_i1_290.jpg\n",
      "https://sitem.ssgcdn.com/54/83/46/item/1000017468354_i1_290.jpg\n",
      "https://sitem.ssgcdn.com/06/49/68/item/1000036684906_i1_290.jpg\n",
      "https://sitem.ssgcdn.com/89/95/97/item/1000021979589_i1_290.jpg\n",
      "https://sitem.ssgcdn.com/82/49/07/item/0000008074982_i1_290.jpg\n",
      "https://sitem.ssgcdn.com/92/86/00/item/0000010008692_i1_290.jpg\n",
      "https://sitem.ssgcdn.com/74/82/94/item/1000372948274_i1_290.jpg\n",
      "https://sitem.ssgcdn.com/65/02/44/item/1000041440265_i1_290.jpg\n",
      "https://sitem.ssgcdn.com/43/96/97/item/1000021979643_i1_290.jpg\n",
      "https://sitem.ssgcdn.com/20/39/23/item/1000016233920_i1_290.jpg\n",
      "https://sitem.ssgcdn.com/50/08/22/item/0000010220850_i1_290.jpg\n",
      "https://sitem.ssgcdn.com/88/71/10/item/1000078107188_i1_290.jpg\n",
      "https://sitem.ssgcdn.com/89/54/56/item/1000053565489_i1_290.jpg\n",
      "https://sitem.ssgcdn.com/33/91/60/item/0000006609133_i1_290.jpg\n",
      "https://sitem.ssgcdn.com/45/87/37/item/0000007378745_i1_290.jpg\n"
     ]
    }
   ],
   "source": [
    "for i in range(1,85):\n",
    "    images = driver.find_element_by_xpath('//*[@id=\"ty_thmb_view\"]/ul/li['+ str(i) + ']/div/div[1]/a/div/img')\n",
    "    img_url = images.get_attribute('src')\n",
    "    print(img_url)\n",
    "    urllib.request.urlretrieve(img_url, 'image_data/image'+str(i)+'.png') # image_data 폴더에 image1.png 이런식으로 저장"
   ]
  },
  {
   "cell_type": "code",
   "execution_count": 21,
   "id": "d4f3aa7d",
   "metadata": {},
   "outputs": [],
   "source": [
    "driver.implicitly_wait(10) # 10초 기다렸다가 자동적으로 동작되게 만드는 함수"
   ]
  },
  {
   "cell_type": "code",
   "execution_count": 22,
   "id": "576ba60e",
   "metadata": {},
   "outputs": [
    {
     "ename": "NoSuchElementException",
     "evalue": "Message: no such element: Unable to locate element: {\"method\":\"xpath\",\"selector\":\"//*[@id=\"ty_thmb_view\"]/ul/li[81]/div/a/div[1]\"}\n  (Session info: chrome=121.0.6167.86)\n",
     "output_type": "error",
     "traceback": [
      "\u001b[1;31m---------------------------------------------------------------------------\u001b[0m",
      "\u001b[1;31mNoSuchElementException\u001b[0m                    Traceback (most recent call last)",
      "\u001b[1;32m~\\AppData\\Local\\Temp\\ipykernel_27392\\2746823490.py\u001b[0m in \u001b[0;36m<module>\u001b[1;34m\u001b[0m\n\u001b[0;32m      3\u001b[0m \u001b[1;32mfor\u001b[0m \u001b[0mj\u001b[0m \u001b[1;32min\u001b[0m \u001b[0mrange\u001b[0m\u001b[1;33m(\u001b[0m\u001b[1;36m1\u001b[0m\u001b[1;33m,\u001b[0m\u001b[1;36m11\u001b[0m\u001b[1;33m)\u001b[0m\u001b[1;33m:\u001b[0m\u001b[1;33m\u001b[0m\u001b[1;33m\u001b[0m\u001b[0m\n\u001b[0;32m      4\u001b[0m     \u001b[1;32mfor\u001b[0m \u001b[0mi\u001b[0m \u001b[1;32min\u001b[0m \u001b[0mrange\u001b[0m\u001b[1;33m(\u001b[0m\u001b[1;36m1\u001b[0m\u001b[1;33m,\u001b[0m \u001b[1;36m85\u001b[0m\u001b[1;33m)\u001b[0m\u001b[1;33m:\u001b[0m\u001b[1;33m\u001b[0m\u001b[1;33m\u001b[0m\u001b[0m\n\u001b[1;32m----> 5\u001b[1;33m         \u001b[0mproduct_name\u001b[0m \u001b[1;33m=\u001b[0m \u001b[0mdriver\u001b[0m\u001b[1;33m.\u001b[0m\u001b[0mfind_element_by_xpath\u001b[0m\u001b[1;33m(\u001b[0m\u001b[1;34m'//*[@id=\"ty_thmb_view\"]/ul/li['\u001b[0m\u001b[1;33m+\u001b[0m\u001b[0mstr\u001b[0m\u001b[1;33m(\u001b[0m\u001b[0mi\u001b[0m\u001b[1;33m)\u001b[0m\u001b[1;33m+\u001b[0m\u001b[1;34m']/div/a/div[1]'\u001b[0m\u001b[1;33m)\u001b[0m\u001b[1;33m\u001b[0m\u001b[1;33m\u001b[0m\u001b[0m\n\u001b[0m\u001b[0;32m      6\u001b[0m         \u001b[0mprice\u001b[0m \u001b[1;33m=\u001b[0m \u001b[0mdriver\u001b[0m\u001b[1;33m.\u001b[0m\u001b[0mfind_element_by_xpath\u001b[0m\u001b[1;33m(\u001b[0m\u001b[1;34m'//*[@id=\"ty_thmb_view\"]/ul/li['\u001b[0m \u001b[1;33m+\u001b[0m \u001b[0mstr\u001b[0m\u001b[1;33m(\u001b[0m\u001b[0mi\u001b[0m\u001b[1;33m)\u001b[0m \u001b[1;33m+\u001b[0m \u001b[1;34m']/div/a/div[2]/div[1]'\u001b[0m\u001b[1;33m)\u001b[0m\u001b[1;33m\u001b[0m\u001b[1;33m\u001b[0m\u001b[0m\n\u001b[0;32m      7\u001b[0m         \u001b[0mproduct_list\u001b[0m\u001b[1;33m.\u001b[0m\u001b[0mappend\u001b[0m\u001b[1;33m(\u001b[0m\u001b[0mproduct_name\u001b[0m\u001b[1;33m.\u001b[0m\u001b[0mtext\u001b[0m\u001b[1;33m)\u001b[0m\u001b[1;33m\u001b[0m\u001b[1;33m\u001b[0m\u001b[0m\n",
      "\u001b[1;32m~\\anaconda3\\lib\\site-packages\\selenium\\webdriver\\remote\\webdriver.py\u001b[0m in \u001b[0;36mfind_element_by_xpath\u001b[1;34m(self, xpath)\u001b[0m\n\u001b[0;32m    392\u001b[0m             \u001b[0melement\u001b[0m \u001b[1;33m=\u001b[0m \u001b[0mdriver\u001b[0m\u001b[1;33m.\u001b[0m\u001b[0mfind_element_by_xpath\u001b[0m\u001b[1;33m(\u001b[0m\u001b[1;34m'//div/td[1]'\u001b[0m\u001b[1;33m)\u001b[0m\u001b[1;33m\u001b[0m\u001b[1;33m\u001b[0m\u001b[0m\n\u001b[0;32m    393\u001b[0m         \"\"\"\n\u001b[1;32m--> 394\u001b[1;33m         \u001b[1;32mreturn\u001b[0m \u001b[0mself\u001b[0m\u001b[1;33m.\u001b[0m\u001b[0mfind_element\u001b[0m\u001b[1;33m(\u001b[0m\u001b[0mby\u001b[0m\u001b[1;33m=\u001b[0m\u001b[0mBy\u001b[0m\u001b[1;33m.\u001b[0m\u001b[0mXPATH\u001b[0m\u001b[1;33m,\u001b[0m \u001b[0mvalue\u001b[0m\u001b[1;33m=\u001b[0m\u001b[0mxpath\u001b[0m\u001b[1;33m)\u001b[0m\u001b[1;33m\u001b[0m\u001b[1;33m\u001b[0m\u001b[0m\n\u001b[0m\u001b[0;32m    395\u001b[0m \u001b[1;33m\u001b[0m\u001b[0m\n\u001b[0;32m    396\u001b[0m     \u001b[1;32mdef\u001b[0m \u001b[0mfind_elements_by_xpath\u001b[0m\u001b[1;33m(\u001b[0m\u001b[0mself\u001b[0m\u001b[1;33m,\u001b[0m \u001b[0mxpath\u001b[0m\u001b[1;33m)\u001b[0m\u001b[1;33m:\u001b[0m\u001b[1;33m\u001b[0m\u001b[1;33m\u001b[0m\u001b[0m\n",
      "\u001b[1;32m~\\anaconda3\\lib\\site-packages\\selenium\\webdriver\\remote\\webdriver.py\u001b[0m in \u001b[0;36mfind_element\u001b[1;34m(self, by, value)\u001b[0m\n\u001b[0;32m    974\u001b[0m                 \u001b[0mby\u001b[0m \u001b[1;33m=\u001b[0m \u001b[0mBy\u001b[0m\u001b[1;33m.\u001b[0m\u001b[0mCSS_SELECTOR\u001b[0m\u001b[1;33m\u001b[0m\u001b[1;33m\u001b[0m\u001b[0m\n\u001b[0;32m    975\u001b[0m                 \u001b[0mvalue\u001b[0m \u001b[1;33m=\u001b[0m \u001b[1;34m'[name=\"%s\"]'\u001b[0m \u001b[1;33m%\u001b[0m \u001b[0mvalue\u001b[0m\u001b[1;33m\u001b[0m\u001b[1;33m\u001b[0m\u001b[0m\n\u001b[1;32m--> 976\u001b[1;33m         return self.execute(Command.FIND_ELEMENT, {\n\u001b[0m\u001b[0;32m    977\u001b[0m             \u001b[1;34m'using'\u001b[0m\u001b[1;33m:\u001b[0m \u001b[0mby\u001b[0m\u001b[1;33m,\u001b[0m\u001b[1;33m\u001b[0m\u001b[1;33m\u001b[0m\u001b[0m\n\u001b[0;32m    978\u001b[0m             'value': value})['value']\n",
      "\u001b[1;32m~\\anaconda3\\lib\\site-packages\\selenium\\webdriver\\remote\\webdriver.py\u001b[0m in \u001b[0;36mexecute\u001b[1;34m(self, driver_command, params)\u001b[0m\n\u001b[0;32m    319\u001b[0m         \u001b[0mresponse\u001b[0m \u001b[1;33m=\u001b[0m \u001b[0mself\u001b[0m\u001b[1;33m.\u001b[0m\u001b[0mcommand_executor\u001b[0m\u001b[1;33m.\u001b[0m\u001b[0mexecute\u001b[0m\u001b[1;33m(\u001b[0m\u001b[0mdriver_command\u001b[0m\u001b[1;33m,\u001b[0m \u001b[0mparams\u001b[0m\u001b[1;33m)\u001b[0m\u001b[1;33m\u001b[0m\u001b[1;33m\u001b[0m\u001b[0m\n\u001b[0;32m    320\u001b[0m         \u001b[1;32mif\u001b[0m \u001b[0mresponse\u001b[0m\u001b[1;33m:\u001b[0m\u001b[1;33m\u001b[0m\u001b[1;33m\u001b[0m\u001b[0m\n\u001b[1;32m--> 321\u001b[1;33m             \u001b[0mself\u001b[0m\u001b[1;33m.\u001b[0m\u001b[0merror_handler\u001b[0m\u001b[1;33m.\u001b[0m\u001b[0mcheck_response\u001b[0m\u001b[1;33m(\u001b[0m\u001b[0mresponse\u001b[0m\u001b[1;33m)\u001b[0m\u001b[1;33m\u001b[0m\u001b[1;33m\u001b[0m\u001b[0m\n\u001b[0m\u001b[0;32m    322\u001b[0m             response['value'] = self._unwrap_value(\n\u001b[0;32m    323\u001b[0m                 response.get('value', None))\n",
      "\u001b[1;32m~\\anaconda3\\lib\\site-packages\\selenium\\webdriver\\remote\\errorhandler.py\u001b[0m in \u001b[0;36mcheck_response\u001b[1;34m(self, response)\u001b[0m\n\u001b[0;32m    240\u001b[0m                 \u001b[0malert_text\u001b[0m \u001b[1;33m=\u001b[0m \u001b[0mvalue\u001b[0m\u001b[1;33m[\u001b[0m\u001b[1;34m'alert'\u001b[0m\u001b[1;33m]\u001b[0m\u001b[1;33m.\u001b[0m\u001b[0mget\u001b[0m\u001b[1;33m(\u001b[0m\u001b[1;34m'text'\u001b[0m\u001b[1;33m)\u001b[0m\u001b[1;33m\u001b[0m\u001b[1;33m\u001b[0m\u001b[0m\n\u001b[0;32m    241\u001b[0m             \u001b[1;32mraise\u001b[0m \u001b[0mexception_class\u001b[0m\u001b[1;33m(\u001b[0m\u001b[0mmessage\u001b[0m\u001b[1;33m,\u001b[0m \u001b[0mscreen\u001b[0m\u001b[1;33m,\u001b[0m \u001b[0mstacktrace\u001b[0m\u001b[1;33m,\u001b[0m \u001b[0malert_text\u001b[0m\u001b[1;33m)\u001b[0m\u001b[1;33m\u001b[0m\u001b[1;33m\u001b[0m\u001b[0m\n\u001b[1;32m--> 242\u001b[1;33m         \u001b[1;32mraise\u001b[0m \u001b[0mexception_class\u001b[0m\u001b[1;33m(\u001b[0m\u001b[0mmessage\u001b[0m\u001b[1;33m,\u001b[0m \u001b[0mscreen\u001b[0m\u001b[1;33m,\u001b[0m \u001b[0mstacktrace\u001b[0m\u001b[1;33m)\u001b[0m\u001b[1;33m\u001b[0m\u001b[1;33m\u001b[0m\u001b[0m\n\u001b[0m\u001b[0;32m    243\u001b[0m \u001b[1;33m\u001b[0m\u001b[0m\n\u001b[0;32m    244\u001b[0m     \u001b[1;32mdef\u001b[0m \u001b[0m_value_or_default\u001b[0m\u001b[1;33m(\u001b[0m\u001b[0mself\u001b[0m\u001b[1;33m,\u001b[0m \u001b[0mobj\u001b[0m\u001b[1;33m,\u001b[0m \u001b[0mkey\u001b[0m\u001b[1;33m,\u001b[0m \u001b[0mdefault\u001b[0m\u001b[1;33m)\u001b[0m\u001b[1;33m:\u001b[0m\u001b[1;33m\u001b[0m\u001b[1;33m\u001b[0m\u001b[0m\n",
      "\u001b[1;31mNoSuchElementException\u001b[0m: Message: no such element: Unable to locate element: {\"method\":\"xpath\",\"selector\":\"//*[@id=\"ty_thmb_view\"]/ul/li[81]/div/a/div[1]\"}\n  (Session info: chrome=121.0.6167.86)\n"
     ]
    }
   ],
   "source": [
    "# product_list = [] # 리스트로 만드는 이유는 하나의 데이터 프레임으로 만들 수 있기 때문이다.\n",
    "# price_list = [] # 리스트로 만드는 이유는 하나의 데이터 프레임으로 만들 수 있기 때문이다.\n",
    "# for j in range(1,11):\n",
    "#     for i in range(1, 85):\n",
    "#         product_name = driver.find_element_by_xpath('//*[@id=\"ty_thmb_view\"]/ul/li['+str(i)+']/div/a/div[1]')\n",
    "#         price = driver.find_element_by_xpath('//*[@id=\"ty_thmb_view\"]/ul/li[' + str(i) + ']/div/a/div[2]/div[1]')\n",
    "#         product_list.append(product_name.text) \n",
    "#         price_list.append(price.text)\n",
    "\n",
    "# ### 한페이지에 있는 데이터를 리스트에 담은 후 다음 페이지로 넘어가는 과정\n",
    "#     driver.find_element_by_xpath('//*[@id=\"area_itemlist\"]/div[2]/div/a[' + str(j) +']').send_keys(Keys.ENTER)\n",
    "# #     Message: no such element: Unable to locate elemen 오류가 나는 이유는 아직 페이지가 띄어지지 않은 상태에서 크롤링을 하려다보니깐 오류가 나는 것임."
   ]
  },
  {
   "cell_type": "code",
   "execution_count": null,
   "id": "2765b1a6",
   "metadata": {},
   "outputs": [],
   "source": [
    "# 코드에 오류가 발생하더라도 skip하는 \n",
    "try: #정상\n",
    "    print('문장1')\n",
    "except: #오류\n",
    "    print('오류')\n",
    "finally: # the end\n",
    "    print('종료')"
   ]
  },
  {
   "cell_type": "code",
   "execution_count": 30,
   "id": "816b2731",
   "metadata": {},
   "outputs": [
    {
     "name": "stdout",
     "output_type": "stream",
     "text": [
      "1 page Done\n",
      "Message: no such element: Unable to locate element: {\"method\":\"xpath\",\"selector\":\"//*[@id=\"ty_thmb_view\"]/ul/li[81]/div/a/div[1]\"}\n",
      "  (Session info: chrome=121.0.6167.86)\n",
      "\n",
      "Message: no such element: Unable to locate element: {\"method\":\"xpath\",\"selector\":\"//*[@id=\"ty_thmb_view\"]/ul/li[82]/div/a/div[1]\"}\n",
      "  (Session info: chrome=121.0.6167.86)\n",
      "\n",
      "Message: no such element: Unable to locate element: {\"method\":\"xpath\",\"selector\":\"//*[@id=\"ty_thmb_view\"]/ul/li[83]/div/a/div[1]\"}\n",
      "  (Session info: chrome=121.0.6167.86)\n",
      "\n",
      "Message: no such element: Unable to locate element: {\"method\":\"xpath\",\"selector\":\"//*[@id=\"ty_thmb_view\"]/ul/li[84]/div/a/div[1]\"}\n",
      "  (Session info: chrome=121.0.6167.86)\n",
      "\n",
      "2 page Done\n"
     ]
    }
   ],
   "source": [
    "driver = webdriver.Chrome('chromedriver')\n",
    "driver.get('http://emart.ssg.com/')\n",
    "driver.find_element_by_xpath('//*[@id=\"skip_gnb\"]/div/div[1]/button').send_keys(Keys.ENTER) # .Enter() -> .send_keys(Keys.Enter)로 문법이 개정됨\n",
    "driver.find_element_by_xpath('//*[@id=\"skip_gnb\"]/div/div[1]/div/div/ul/li[10]/a').send_keys(Keys.ENTER)\n",
    "\n",
    "driver.implicitly_wait(10) # 10초 기다렸다가 자동적으로 동작되게 만드는 함수\n",
    "\n",
    "product_list = [] # 리스트로 만드는 이유는 하나의 데이터 프레임으로 만들 수 있기 때문이다.\n",
    "price_list = [] # 리스트로 만드는 이유는 하나의 데이터 프레임으로 만들 수 있기 때문이다.\n",
    "for j in range(1,3):\n",
    "    for i in range(1, 85):\n",
    "        try:\n",
    "            product_name = driver.find_element_by_xpath('//*[@id=\"ty_thmb_view\"]/ul/li['+str(i)+']/div/a/div[1]')\n",
    "            price = driver.find_element_by_xpath('//*[@id=\"ty_thmb_view\"]/ul/li[' + str(i) + ']/div/a/div[2]/div[1]')\n",
    "            image1 = driver.find_element_by_xpath('//*[@id=\"ty_thmb_view\"]/ul/li['+ str(i) + ']/div/div[1]/a/div/img')\n",
    "            img_url = image1.get_attribute('src')\n",
    "            urllib.request.urlretrieve(img_url, 'image_data/' + str(j) + 'image'+str(i)+'.png') # image_data 폴더에 페이지별 image1.png 이런식으로 저장\n",
    "            product_list.append(product_name.text) \n",
    "            price_list.append(price.text)\n",
    "        \n",
    "        except Exception as e:\n",
    "            print(e)\n",
    "        \n",
    "        finally:\n",
    "            pass\n",
    "\n",
    "# for문이 다 돌고 끝났을 때 그 다음 페이지로 넘어가는 Logic\n",
    "### 한페이지에 있는 데이터를 리스트에 담은 후 다음 페이지로 넘어가는 과정\n",
    "    driver.find_element_by_xpath('//*[@id=\"area_itemlist\"]/div[2]/div/a[' + str(j) +']').send_keys(Keys.ENTER)    \n",
    "    print(j, 'page Done')\n",
    "driver.quit()\n",
    "#     Message: no such element: Unable to locate elemen 오류가 나는 이유는 아직 페이지가 띄어지지 않은 상태에서 크롤링을 하려다보니깐 오류가 나는 것임."
   ]
  },
  {
   "cell_type": "code",
   "execution_count": 31,
   "id": "ca48b3a6",
   "metadata": {},
   "outputs": [],
   "source": [
    "df1 = pd.DataFrame({'상품명': product_list, '가격':price_list})\n",
    "df1.to_excel('result2.xlsx')"
   ]
  }
 ],
 "metadata": {
  "kernelspec": {
   "display_name": "Python 3 (ipykernel)",
   "language": "python",
   "name": "python3"
  },
  "language_info": {
   "codemirror_mode": {
    "name": "ipython",
    "version": 3
   },
   "file_extension": ".py",
   "mimetype": "text/x-python",
   "name": "python",
   "nbconvert_exporter": "python",
   "pygments_lexer": "ipython3",
   "version": "3.9.13"
  }
 },
 "nbformat": 4,
 "nbformat_minor": 5
}
